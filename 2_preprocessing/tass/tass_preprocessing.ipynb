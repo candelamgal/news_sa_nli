{
 "cells": [
  {
   "cell_type": "code",
   "execution_count": 1,
   "metadata": {},
   "outputs": [],
   "source": [
    "import xml.etree.ElementTree as ET\n",
    "import pandas as pd\n",
    "import re\n",
    "from unidecode import unidecode\n",
    "\n",
    "\n",
    "tree = ET.parse('intertass-ES-train-tagged.xml')\n",
    "root = tree.getroot()\n",
    "\n",
    "tweets_data = []\n",
    "\n",
    "for tweet in root.findall('tweet'):\n",
    "    tweetid = tweet.find('tweetid').text\n",
    "    user = tweet.find('user').text\n",
    "    content = tweet.find('content').text\n",
    "    date = tweet.find('date').text\n",
    "    lang = tweet.find('lang').text\n",
    "    sentiment_value = tweet.find('sentiment/polarity/value').text\n",
    "    \n",
    "    tweets_data.append({'Tweet ID': tweetid, 'Usuario': user, 'Contenido': content,\n",
    "                        'Fecha': date, 'Lenguaje': lang, 'Sentimiento': sentiment_value})\n",
    "\n",
    "df = pd.DataFrame(tweets_data)"
   ]
  },
  {
   "cell_type": "code",
   "execution_count": 2,
   "metadata": {},
   "outputs": [
    {
     "data": {
      "text/plain": [
       "(1008, 6)"
      ]
     },
     "execution_count": 2,
     "metadata": {},
     "output_type": "execute_result"
    }
   ],
   "source": [
    "df.shape"
   ]
  },
  {
   "cell_type": "code",
   "execution_count": 3,
   "metadata": {},
   "outputs": [
    {
     "data": {
      "text/html": [
       "<div>\n",
       "<style scoped>\n",
       "    .dataframe tbody tr th:only-of-type {\n",
       "        vertical-align: middle;\n",
       "    }\n",
       "\n",
       "    .dataframe tbody tr th {\n",
       "        vertical-align: top;\n",
       "    }\n",
       "\n",
       "    .dataframe thead th {\n",
       "        text-align: right;\n",
       "    }\n",
       "</style>\n",
       "<table border=\"1\" class=\"dataframe\">\n",
       "  <thead>\n",
       "    <tr style=\"text-align: right;\">\n",
       "      <th></th>\n",
       "      <th>Tweet ID</th>\n",
       "      <th>Usuario</th>\n",
       "      <th>Contenido</th>\n",
       "      <th>Fecha</th>\n",
       "      <th>Lenguaje</th>\n",
       "      <th>Sentimiento</th>\n",
       "    </tr>\n",
       "  </thead>\n",
       "  <tbody>\n",
       "    <tr>\n",
       "      <th>0</th>\n",
       "      <td>768213876278165504</td>\n",
       "      <td>OnceBukowski</td>\n",
       "      <td>-Me caes muy bien \\n-Tienes que jugar más part...</td>\n",
       "      <td>2016-08-23 22:30:35</td>\n",
       "      <td>es</td>\n",
       "      <td>NONE</td>\n",
       "    </tr>\n",
       "    <tr>\n",
       "      <th>1</th>\n",
       "      <td>768213567418036224</td>\n",
       "      <td>anahorxn</td>\n",
       "      <td>@myendlesshazza a. que puto mal escribo\\n\\nb. ...</td>\n",
       "      <td>2016-08-23 22:29:21</td>\n",
       "      <td>es</td>\n",
       "      <td>N</td>\n",
       "    </tr>\n",
       "    <tr>\n",
       "      <th>2</th>\n",
       "      <td>768212591105703936</td>\n",
       "      <td>martitarey13</td>\n",
       "      <td>@estherct209 jajajaja la tuya y la d mucha gen...</td>\n",
       "      <td>2016-08-23 22:25:29</td>\n",
       "      <td>es</td>\n",
       "      <td>N</td>\n",
       "    </tr>\n",
       "    <tr>\n",
       "      <th>3</th>\n",
       "      <td>768221670255493120</td>\n",
       "      <td>endlessmilerr</td>\n",
       "      <td>Quiero mogollón a @AlbaBenito99 pero sobretodo...</td>\n",
       "      <td>2016-08-23 23:01:33</td>\n",
       "      <td>es</td>\n",
       "      <td>P</td>\n",
       "    </tr>\n",
       "    <tr>\n",
       "      <th>4</th>\n",
       "      <td>768221021300264964</td>\n",
       "      <td>JunoWTFL</td>\n",
       "      <td>Vale he visto la tia bebiendose su regla y me ...</td>\n",
       "      <td>2016-08-23 22:58:58</td>\n",
       "      <td>es</td>\n",
       "      <td>N</td>\n",
       "    </tr>\n",
       "  </tbody>\n",
       "</table>\n",
       "</div>"
      ],
      "text/plain": [
       "             Tweet ID        Usuario  \\\n",
       "0  768213876278165504   OnceBukowski   \n",
       "1  768213567418036224       anahorxn   \n",
       "2  768212591105703936   martitarey13   \n",
       "3  768221670255493120  endlessmilerr   \n",
       "4  768221021300264964       JunoWTFL   \n",
       "\n",
       "                                           Contenido                Fecha  \\\n",
       "0  -Me caes muy bien \\n-Tienes que jugar más part...  2016-08-23 22:30:35   \n",
       "1  @myendlesshazza a. que puto mal escribo\\n\\nb. ...  2016-08-23 22:29:21   \n",
       "2  @estherct209 jajajaja la tuya y la d mucha gen...  2016-08-23 22:25:29   \n",
       "3  Quiero mogollón a @AlbaBenito99 pero sobretodo...  2016-08-23 23:01:33   \n",
       "4  Vale he visto la tia bebiendose su regla y me ...  2016-08-23 22:58:58   \n",
       "\n",
       "  Lenguaje Sentimiento  \n",
       "0       es        NONE  \n",
       "1       es           N  \n",
       "2       es           N  \n",
       "3       es           P  \n",
       "4       es           N  "
      ]
     },
     "execution_count": 3,
     "metadata": {},
     "output_type": "execute_result"
    }
   ],
   "source": [
    "df.head()"
   ]
  },
  {
   "cell_type": "code",
   "execution_count": 4,
   "metadata": {},
   "outputs": [
    {
     "data": {
      "text/plain": [
       "Sentimiento\n",
       "N       418\n",
       "P       318\n",
       "NONE    139\n",
       "NEU     133\n",
       "Name: count, dtype: int64"
      ]
     },
     "execution_count": 4,
     "metadata": {},
     "output_type": "execute_result"
    }
   ],
   "source": [
    "df.Sentimiento.value_counts()"
   ]
  },
  {
   "cell_type": "code",
   "execution_count": 5,
   "metadata": {},
   "outputs": [],
   "source": [
    "df_sentiment = df[df['Sentimiento']!='NONE'].reset_index(drop=True)"
   ]
  },
  {
   "cell_type": "code",
   "execution_count": 6,
   "metadata": {},
   "outputs": [
    {
     "data": {
      "text/plain": [
       "Sentimiento\n",
       "N      418\n",
       "P      318\n",
       "NEU    133\n",
       "Name: count, dtype: int64"
      ]
     },
     "execution_count": 6,
     "metadata": {},
     "output_type": "execute_result"
    }
   ],
   "source": [
    "df_sentiment.Sentimiento.value_counts()"
   ]
  },
  {
   "cell_type": "code",
   "execution_count": 7,
   "metadata": {},
   "outputs": [
    {
     "data": {
      "text/plain": [
       "(869, 6)"
      ]
     },
     "execution_count": 7,
     "metadata": {},
     "output_type": "execute_result"
    }
   ],
   "source": [
    "df_sentiment.shape"
   ]
  },
  {
   "cell_type": "code",
   "execution_count": 7,
   "metadata": {},
   "outputs": [
    {
     "data": {
      "text/plain": [
       "'@myendlesshazza a. que puto mal escribo\\n\\nb. me sigo surrando help \\n\\n3. ha quedado raro el \"cómetelo\" ahí JAJAJAJA'"
      ]
     },
     "execution_count": 7,
     "metadata": {},
     "output_type": "execute_result"
    }
   ],
   "source": [
    "df_sentiment.Contenido.iloc[0]"
   ]
  },
  {
   "cell_type": "markdown",
   "metadata": {},
   "source": [
    "# Procesamiento"
   ]
  },
  {
   "cell_type": "code",
   "execution_count": 9,
   "metadata": {},
   "outputs": [],
   "source": [
    "def cargar_stopwords(archivo_stopwords):\n",
    "    with open(archivo_stopwords, 'r', encoding='utf-8') as f:\n",
    "        stopwords = f.read().splitlines()\n",
    "    return stopwords\n",
    "\n",
    "def limpiar_texto(texto):\n",
    "    # eliminar intros y otros caracteres no deseados\n",
    "    texto_limpio = re.sub(r'@[\\w.-]+', '', texto)\n",
    "    texto_limpio = re.sub(r'\\n', ' ', texto_limpio)  # eliminar intros\n",
    "    texto_limpio = re.sub(r'[^\\w\\s]', '', texto_limpio)  # eliminar caracteres especiales excepto puntos\n",
    "    # cambiar tildes por la misma letra sin tilde\n",
    "    # texto_limpio = unidecode(texto_limpio)\n",
    "    # convertir texto a minúsculas\n",
    "    texto_limpio = texto_limpio.lower()\n",
    "    # tokenizar el texto en palabras\n",
    "    palabras = texto_limpio.split()\n",
    "    # eliminar stopwords\n",
    "    palabras_filtradas = [palabra for palabra in palabras if palabra not in stopwords_espanol]\n",
    "    # reconstruir el texto sin las stopwords\n",
    "    texto_sin_stopwords = ' '.join(palabras_filtradas)\n",
    "    return texto_sin_stopwords\n",
    "\n",
    "# cargar stopwords en español\n",
    "stopwords_espanol = cargar_stopwords('spanish_stop_words.txt')\n"
   ]
  },
  {
   "cell_type": "code",
   "execution_count": 10,
   "metadata": {},
   "outputs": [],
   "source": [
    "df_sentiment['texto_limpio'] = df_sentiment['Contenido'].apply(limpiar_texto)"
   ]
  },
  {
   "cell_type": "code",
   "execution_count": 11,
   "metadata": {},
   "outputs": [],
   "source": [
    "mapping = {'N': \"negative\", 'NEU': \"neutral\", 'P': \"positive\"}\n",
    "df_sentiment['Sentimiento'] = df_sentiment['Sentimiento'].replace(mapping)"
   ]
  },
  {
   "cell_type": "code",
   "execution_count": 12,
   "metadata": {},
   "outputs": [
    {
     "data": {
      "text/html": [
       "<div>\n",
       "<style scoped>\n",
       "    .dataframe tbody tr th:only-of-type {\n",
       "        vertical-align: middle;\n",
       "    }\n",
       "\n",
       "    .dataframe tbody tr th {\n",
       "        vertical-align: top;\n",
       "    }\n",
       "\n",
       "    .dataframe thead th {\n",
       "        text-align: right;\n",
       "    }\n",
       "</style>\n",
       "<table border=\"1\" class=\"dataframe\">\n",
       "  <thead>\n",
       "    <tr style=\"text-align: right;\">\n",
       "      <th></th>\n",
       "      <th>Tweet ID</th>\n",
       "      <th>Usuario</th>\n",
       "      <th>Contenido</th>\n",
       "      <th>Fecha</th>\n",
       "      <th>Lenguaje</th>\n",
       "      <th>Sentimiento</th>\n",
       "      <th>texto_limpio</th>\n",
       "    </tr>\n",
       "  </thead>\n",
       "  <tbody>\n",
       "    <tr>\n",
       "      <th>0</th>\n",
       "      <td>768213567418036224</td>\n",
       "      <td>anahorxn</td>\n",
       "      <td>@myendlesshazza a. que puto mal escribo\\n\\nb. ...</td>\n",
       "      <td>2016-08-23 22:29:21</td>\n",
       "      <td>es</td>\n",
       "      <td>negative</td>\n",
       "      <td>puto mal escribo b sigo surrando help 3 quedad...</td>\n",
       "    </tr>\n",
       "    <tr>\n",
       "      <th>1</th>\n",
       "      <td>768212591105703936</td>\n",
       "      <td>martitarey13</td>\n",
       "      <td>@estherct209 jajajaja la tuya y la d mucha gen...</td>\n",
       "      <td>2016-08-23 22:25:29</td>\n",
       "      <td>es</td>\n",
       "      <td>negative</td>\n",
       "      <td>jajajaja d mucha gente seguro puedo melena muero</td>\n",
       "    </tr>\n",
       "    <tr>\n",
       "      <th>2</th>\n",
       "      <td>768221670255493120</td>\n",
       "      <td>endlessmilerr</td>\n",
       "      <td>Quiero mogollón a @AlbaBenito99 pero sobretodo...</td>\n",
       "      <td>2016-08-23 23:01:33</td>\n",
       "      <td>es</td>\n",
       "      <td>positive</td>\n",
       "      <td>quiero mogollón sobretodo rápido contesta wasaps</td>\n",
       "    </tr>\n",
       "    <tr>\n",
       "      <th>3</th>\n",
       "      <td>768221021300264964</td>\n",
       "      <td>JunoWTFL</td>\n",
       "      <td>Vale he visto la tia bebiendose su regla y me ...</td>\n",
       "      <td>2016-08-23 22:58:58</td>\n",
       "      <td>es</td>\n",
       "      <td>negative</td>\n",
       "      <td>vale visto tia bebiendose regla hs dado muchs ...</td>\n",
       "    </tr>\n",
       "    <tr>\n",
       "      <th>4</th>\n",
       "      <td>768220253730009091</td>\n",
       "      <td>Alis_8496</td>\n",
       "      <td>@Yulian_Poe @guillermoterry1 Ah. mucho más por...</td>\n",
       "      <td>2016-08-23 22:55:55</td>\n",
       "      <td>es</td>\n",
       "      <td>positive</td>\n",
       "      <td>ah supuesto solo incluyo entendido mal</td>\n",
       "    </tr>\n",
       "  </tbody>\n",
       "</table>\n",
       "</div>"
      ],
      "text/plain": [
       "             Tweet ID        Usuario  \\\n",
       "0  768213567418036224       anahorxn   \n",
       "1  768212591105703936   martitarey13   \n",
       "2  768221670255493120  endlessmilerr   \n",
       "3  768221021300264964       JunoWTFL   \n",
       "4  768220253730009091      Alis_8496   \n",
       "\n",
       "                                           Contenido                Fecha  \\\n",
       "0  @myendlesshazza a. que puto mal escribo\\n\\nb. ...  2016-08-23 22:29:21   \n",
       "1  @estherct209 jajajaja la tuya y la d mucha gen...  2016-08-23 22:25:29   \n",
       "2  Quiero mogollón a @AlbaBenito99 pero sobretodo...  2016-08-23 23:01:33   \n",
       "3  Vale he visto la tia bebiendose su regla y me ...  2016-08-23 22:58:58   \n",
       "4  @Yulian_Poe @guillermoterry1 Ah. mucho más por...  2016-08-23 22:55:55   \n",
       "\n",
       "  Lenguaje Sentimiento                                       texto_limpio  \n",
       "0       es    negative  puto mal escribo b sigo surrando help 3 quedad...  \n",
       "1       es    negative   jajajaja d mucha gente seguro puedo melena muero  \n",
       "2       es    positive   quiero mogollón sobretodo rápido contesta wasaps  \n",
       "3       es    negative  vale visto tia bebiendose regla hs dado muchs ...  \n",
       "4       es    positive             ah supuesto solo incluyo entendido mal  "
      ]
     },
     "execution_count": 12,
     "metadata": {},
     "output_type": "execute_result"
    }
   ],
   "source": [
    "df_sentiment.head()"
   ]
  },
  {
   "cell_type": "code",
   "execution_count": 14,
   "metadata": {},
   "outputs": [],
   "source": [
    "df_sentiment.to_csv('tass_clean.csv', index=False)"
   ]
  }
 ],
 "metadata": {
  "kernelspec": {
   "display_name": "Python 3",
   "language": "python",
   "name": "python3"
  },
  "language_info": {
   "codemirror_mode": {
    "name": "ipython",
    "version": 3
   },
   "file_extension": ".py",
   "mimetype": "text/x-python",
   "name": "python",
   "nbconvert_exporter": "python",
   "pygments_lexer": "ipython3",
   "version": "3.12.3"
  }
 },
 "nbformat": 4,
 "nbformat_minor": 2
}
